{
 "cells": [
  {
   "cell_type": "markdown",
   "id": "c7c8f9bd",
   "metadata": {},
   "source": [
    "## Created by MttwDevelops\n",
    "with tender love and care!"
   ]
  },
  {
   "cell_type": "code",
   "execution_count": 2,
   "id": "b06426ad",
   "metadata": {},
   "outputs": [],
   "source": [
    "import time\n",
    "time.sleep(3)"
   ]
  },
  {
   "cell_type": "code",
   "execution_count": 22,
   "id": "7d105e35",
   "metadata": {},
   "outputs": [
    {
     "name": "stdout",
     "output_type": "stream",
     "text": [
      "This is a test!\n"
     ]
    }
   ],
   "source": [
    "# Testing notebook\n",
    "# Created 7/17/2022\n",
    "\n",
    "import numpy\n",
    "import pandas\n",
    "\n",
    "\n",
    "print(\"This is a test!\")"
   ]
  },
  {
   "cell_type": "code",
   "execution_count": 28,
   "id": "ce4f6062",
   "metadata": {},
   "outputs": [
    {
     "data": {
      "image/png": "[encoded data removed]",
      "text/plain": [
       "<Figure size 432x288 with 1 Axes>"
      ]
     },
     "metadata": {
      "needs_background": "light"
     },
     "output_type": "display_data"
    }
   ],
   "source": [
    "import matplotlib.pyplot as plt\n",
    "df = pandas.read_csv('facebook.csv')\n",
    "df.head()\n",
    "df.tail()\n",
    "\n",
    "df.columns = ['Date', 'Open', 'High', 'Low', 'Close', 'Adjusted Close', 'Volume']\n",
    "df.tail()\n",
    "df.dtypes\n",
    "\n",
    "# not exactly needed to group by date since it's just a single observation but you get the idea\n",
    "thing = df.loc[:, ['Date', 'Low']].groupby(\"Date\")\n",
    "avgs = thing.mean()\n",
    "x = avgs.index\n",
    "y1 = avgs.Low\n",
    "def plot(x, y, ax, title, y_label):\n",
    "    ax.set_title(title)\n",
    "    ax.set_ylabel(y_label)\n",
    "    ax.plot(x,y)\n",
    "    ax.margins(x=0,y=0)\n",
    "fig, ax = plt.subplots()\n",
    "plot(x,y1,ax, \"facebook stock low graph\", \"low price per date\")"
   ]
  },
  {
   "cell_type": "code",
   "execution_count": 21,
   "id": "f8e4710c",
   "metadata": {},
   "outputs": [
    {
     "data": {
      "text/html": [
       "<div>\n",
       "<style scoped>\n",
       "    .dataframe tbody tr th:only-of-type {\n",
       "        vertical-align: middle;\n",
       "    }\n",
       "\n",
       "    .dataframe tbody tr th {\n",
       "        vertical-align: top;\n",
       "    }\n",
       "\n",
       "    .dataframe thead th {\n",
       "        text-align: right;\n",
       "    }\n",
       "</style>\n",
       "<table border=\"1\" class=\"dataframe\">\n",
       "  <thead>\n",
       "    <tr style=\"text-align: right;\">\n",
       "      <th></th>\n",
       "      <th>Date</th>\n",
       "      <th>Open</th>\n",
       "      <th>High</th>\n",
       "      <th>Low</th>\n",
       "      <th>Close</th>\n",
       "      <th>Adj Close</th>\n",
       "      <th>Volume</th>\n",
       "    </tr>\n",
       "  </thead>\n",
       "  <tbody>\n",
       "    <tr>\n",
       "      <th>0</th>\n",
       "      <td>2022-03-15</td>\n",
       "      <td>190.800003</td>\n",
       "      <td>192.279999</td>\n",
       "      <td>185.910004</td>\n",
       "      <td>192.029999</td>\n",
       "      <td>192.029999</td>\n",
       "      <td>31721700</td>\n",
       "    </tr>\n",
       "    <tr>\n",
       "      <th>1</th>\n",
       "      <td>2022-03-16</td>\n",
       "      <td>194.699997</td>\n",
       "      <td>203.729996</td>\n",
       "      <td>194.520004</td>\n",
       "      <td>203.630005</td>\n",
       "      <td>203.630005</td>\n",
       "      <td>40640300</td>\n",
       "    </tr>\n",
       "    <tr>\n",
       "      <th>2</th>\n",
       "      <td>2022-03-17</td>\n",
       "      <td>201.699997</td>\n",
       "      <td>208.039993</td>\n",
       "      <td>201.110001</td>\n",
       "      <td>207.839996</td>\n",
       "      <td>207.839996</td>\n",
       "      <td>29499700</td>\n",
       "    </tr>\n",
       "    <tr>\n",
       "      <th>3</th>\n",
       "      <td>2022-03-18</td>\n",
       "      <td>206.699997</td>\n",
       "      <td>216.800003</td>\n",
       "      <td>206.000000</td>\n",
       "      <td>216.490005</td>\n",
       "      <td>216.490005</td>\n",
       "      <td>52128000</td>\n",
       "    </tr>\n",
       "    <tr>\n",
       "      <th>4</th>\n",
       "      <td>2022-03-21</td>\n",
       "      <td>214.500000</td>\n",
       "      <td>214.710007</td>\n",
       "      <td>207.630005</td>\n",
       "      <td>211.490005</td>\n",
       "      <td>211.490005</td>\n",
       "      <td>30142300</td>\n",
       "    </tr>\n",
       "  </tbody>\n",
       "</table>\n",
       "</div>"
      ],
      "text/plain": [
       "         Date        Open        High         Low       Close   Adj Close  \\\n",
       "0  2022-03-15  190.800003  192.279999  185.910004  192.029999  192.029999   \n",
       "1  2022-03-16  194.699997  203.729996  194.520004  203.630005  203.630005   \n",
       "2  2022-03-17  201.699997  208.039993  201.110001  207.839996  207.839996   \n",
       "3  2022-03-18  206.699997  216.800003  206.000000  216.490005  216.490005   \n",
       "4  2022-03-21  214.500000  214.710007  207.630005  211.490005  211.490005   \n",
       "\n",
       "     Volume  \n",
       "0  31721700  \n",
       "1  40640300  \n",
       "2  29499700  \n",
       "3  52128000  \n",
       "4  30142300  "
      ]
     },
     "execution_count": 21,
     "metadata": {},
     "output_type": "execute_result"
    }
   ],
   "source": [
    "df = pandas.read_csv('facebook.csv')\n",
    "df.head()"
   ]
  },
  {
   "cell_type": "code",
   "execution_count": null,
   "id": "8fea5a71",
   "metadata": {},
   "outputs": [],
   "source": []
  }
 ],
 "metadata": {
  "kernelspec": {
   "display_name": "Python 3 (ipykernel)",
   "language": "python",
   "name": "python3"
  },
  "language_info": {
   "codemirror_mode": {
    "name": "ipython",
    "version": 3
   },
   "file_extension": ".py",
   "mimetype": "text/x-python",
   "name": "python",
   "nbconvert_exporter": "python",
   "pygments_lexer": "ipython3",
   "version": "3.9.12"
  }
 },
 "nbformat": 4,
 "nbformat_minor": 5
}
