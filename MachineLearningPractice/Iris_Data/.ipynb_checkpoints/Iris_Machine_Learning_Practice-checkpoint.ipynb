{
 "cells": [
  {
   "cell_type": "markdown",
   "id": "2fb4a81f",
   "metadata": {},
   "source": [
    "Iris Dataset\n",
    "Created 7/22/22"
   ]
  },
  {
   "cell_type": "code",
   "execution_count": 2,
   "id": "e27e2da9",
   "metadata": {},
   "outputs": [],
   "source": [
    "from sklearn.datasets import load_iris\n",
    "iris = load_iris() # since we are loading the data in from sklearn, we will assume it is clean"
   ]
  },
  {
   "cell_type": "code",
   "execution_count": 4,
   "id": "509dc49a",
   "metadata": {},
   "outputs": [
    {
     "data": {
      "text/plain": [
       "array(['setosa', 'versicolor', 'virginica'], dtype='<U10')"
      ]
     },
     "execution_count": 4,
     "metadata": {},
     "output_type": "execute_result"
    }
   ],
   "source": [
    "X = iris.data # we use capital X and lowercase y as industry standard\n",
    "y = iris.target # we want to create a function that takes in x and gives y. Like f(x) = y\n",
    "\n",
    "feature_names = iris.feature_names\n",
    "target_names = iris.target_names\n"
   ]
  },
  {
   "cell_type": "markdown",
   "id": "c1c29a88",
   "metadata": {},
   "source": [
    "We now have the data we need, now we will split our data into training and testing sets"
   ]
  },
  {
   "cell_type": "code",
   "execution_count": 6,
   "id": "22b192d8",
   "metadata": {},
   "outputs": [
    {
     "name": "stdout",
     "output_type": "stream",
     "text": [
      "(120, 4)\n",
      "(30, 4)\n"
     ]
    }
   ],
   "source": [
    "from sklearn.model_selection import train_test_split # this randomly selects training and testing subsets\n",
    "X_train, X_test, y_train, y_test = train_test_split(X, y, test_size = 0.2) # test_size gives proportion of testing size to entire data set\n",
    "\n",
    "print(X_train.shape) # returns 120 rows and 4 columns\n",
    "print(X_test.shape) # returns 30 rows and 4 columns"
   ]
  },
  {
   "cell_type": "markdown",
   "id": "7136a333",
   "metadata": {},
   "source": [
    "Now we will create the model and use the nearest neighbors algorithm"
   ]
  },
  {
   "cell_type": "code",
   "execution_count": 7,
   "id": "7e3c6324",
   "metadata": {},
   "outputs": [],
   "source": [
    "from sklearn.neighbors import KNeighborsClassifier\n",
    "knn = KNeighborsClassifier(n_neighbors = 3) # we set n_neighbors to 3 because there are 3 different species in the dataset\n",
    "knn.fit(X_train, y_train) # now created model, now need to check output\n",
    "\n",
    "y_pred = knn.predict(X_test)"
   ]
  },
  {
   "cell_type": "markdown",
   "id": "6ebe5a69",
   "metadata": {},
   "source": [
    "Now we will test our model for accuracy"
   ]
  },
  {
   "cell_type": "code",
   "execution_count": 8,
   "id": "d40fe625",
   "metadata": {},
   "outputs": [
    {
     "name": "stdout",
     "output_type": "stream",
     "text": [
      "0.9333333333333333\n"
     ]
    }
   ],
   "source": [
    "from sklearn import metrics\n",
    "print(metrics.accuracy_score(y_test, y_pred))"
   ]
  },
  {
   "cell_type": "code",
   "execution_count": null,
   "id": "d1773648",
   "metadata": {},
   "outputs": [],
   "source": [
    "We can also use other algorithms, here is the decision tree"
   ]
  },
  {
   "cell_type": "code",
   "execution_count": 9,
   "id": "30617503",
   "metadata": {},
   "outputs": [
    {
     "name": "stdout",
     "output_type": "stream",
     "text": [
      "0.9333333333333333\n"
     ]
    }
   ],
   "source": [
    "from sklearn.tree import DecisionTreeClassifier\n",
    "knn = DecisionTreeClassifier()\n",
    "knn.fit(X_train, y_train) # now created model, now need to check output\n",
    "\n",
    "y_pred = knn.predict(X_test)\n",
    "print(metrics.accuracy_score(y_test, y_pred))"
   ]
  },
  {
   "cell_type": "markdown",
   "id": "47252e25",
   "metadata": {},
   "source": [
    "We can also create our own testing samples and check the model predictions"
   ]
  },
  {
   "cell_type": "code",
   "execution_count": 10,
   "id": "12bfbf4c",
   "metadata": {
    "scrolled": true
   },
   "outputs": [
    {
     "name": "stdout",
     "output_type": "stream",
     "text": [
      "predictions: ['versicolor', 'virginica']\n"
     ]
    }
   ],
   "source": [
    "sample = [[3,5,4,2],[2,3,5,4]]\n",
    "predictions = knn.predict(sample)\n",
    "pred_species = [iris.target_names[p] for p in predictions]\n",
    "print(\"predictions:\", pred_species)"
   ]
  },
  {
   "cell_type": "code",
   "execution_count": null,
   "id": "87212d74",
   "metadata": {},
   "outputs": [],
   "source": []
  }
 ],
 "metadata": {
  "kernelspec": {
   "display_name": "Python 3 (ipykernel)",
   "language": "python",
   "name": "python3"
  },
  "language_info": {
   "codemirror_mode": {
    "name": "ipython",
    "version": 3
   },
   "file_extension": ".py",
   "mimetype": "text/x-python",
   "name": "python",
   "nbconvert_exporter": "python",
   "pygments_lexer": "ipython3",
   "version": "3.9.12"
  }
 },
 "nbformat": 4,
 "nbformat_minor": 5
}
